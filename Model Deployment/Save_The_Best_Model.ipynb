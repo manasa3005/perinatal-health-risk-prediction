{
  "cells": [
    {
      "cell_type": "code",
      "execution_count": 1,
      "metadata": {
        "id": "aLZb_9129ENM"
      },
      "outputs": [],
      "source": [
        "import numpy as np \n",
        "import pandas as pd \n",
        "import matplotlib.pyplot as plt \n",
        "import seaborn as sns \n",
        "import warnings \n",
        "warnings.filterwarnings(\"ignore\") \n",
        "from sklearn.model_selection import train_test_split as split \n",
        "from sklearn.model_selection import GridSearchCV \n",
        "from sklearn.tree import DecisionTreeClassifier \n",
        "from sklearn.neighbors import KNeighborsClassifier \n",
        "from sklearn.svm import SVC \n",
        "from sklearn.linear_model import LogisticRegression \n",
        "from sklearn.ensemble import RandomForestClassifier \n",
        "from sklearn.ensemble import BaggingClassifier \n",
        "from sklearn.ensemble import AdaBoostClassifier \n",
        "from sklearn.naive_bayes import GaussianNB \n",
        "from sklearn import metrics \n",
        "from sklearn.metrics import accuracy_score, confusion_matrix \n",
        "from sklearn.metrics import classification_report"
      ]
    },
    {
      "cell_type": "code",
      "execution_count": 2,
      "metadata": {
        "colab": {
          "base_uri": "https://localhost:8080/",
          "height": 74
        },
        "id": "kUWZ_gswhpTm",
        "outputId": "71628401-384c-42f1-b0c7-f20a9bc77083"
      },
      "outputs": [
        {
          "output_type": "display_data",
          "data": {
            "text/plain": [
              "<IPython.core.display.HTML object>"
            ],
            "text/html": [
              "\n",
              "     <input type=\"file\" id=\"files-47e7d50b-d9aa-4040-9b42-3768a392354e\" name=\"files[]\" multiple disabled\n",
              "        style=\"border:none\" />\n",
              "     <output id=\"result-47e7d50b-d9aa-4040-9b42-3768a392354e\">\n",
              "      Upload widget is only available when the cell has been executed in the\n",
              "      current browser session. Please rerun this cell to enable.\n",
              "      </output>\n",
              "      <script>// Copyright 2017 Google LLC\n",
              "//\n",
              "// Licensed under the Apache License, Version 2.0 (the \"License\");\n",
              "// you may not use this file except in compliance with the License.\n",
              "// You may obtain a copy of the License at\n",
              "//\n",
              "//      http://www.apache.org/licenses/LICENSE-2.0\n",
              "//\n",
              "// Unless required by applicable law or agreed to in writing, software\n",
              "// distributed under the License is distributed on an \"AS IS\" BASIS,\n",
              "// WITHOUT WARRANTIES OR CONDITIONS OF ANY KIND, either express or implied.\n",
              "// See the License for the specific language governing permissions and\n",
              "// limitations under the License.\n",
              "\n",
              "/**\n",
              " * @fileoverview Helpers for google.colab Python module.\n",
              " */\n",
              "(function(scope) {\n",
              "function span(text, styleAttributes = {}) {\n",
              "  const element = document.createElement('span');\n",
              "  element.textContent = text;\n",
              "  for (const key of Object.keys(styleAttributes)) {\n",
              "    element.style[key] = styleAttributes[key];\n",
              "  }\n",
              "  return element;\n",
              "}\n",
              "\n",
              "// Max number of bytes which will be uploaded at a time.\n",
              "const MAX_PAYLOAD_SIZE = 100 * 1024;\n",
              "\n",
              "function _uploadFiles(inputId, outputId) {\n",
              "  const steps = uploadFilesStep(inputId, outputId);\n",
              "  const outputElement = document.getElementById(outputId);\n",
              "  // Cache steps on the outputElement to make it available for the next call\n",
              "  // to uploadFilesContinue from Python.\n",
              "  outputElement.steps = steps;\n",
              "\n",
              "  return _uploadFilesContinue(outputId);\n",
              "}\n",
              "\n",
              "// This is roughly an async generator (not supported in the browser yet),\n",
              "// where there are multiple asynchronous steps and the Python side is going\n",
              "// to poll for completion of each step.\n",
              "// This uses a Promise to block the python side on completion of each step,\n",
              "// then passes the result of the previous step as the input to the next step.\n",
              "function _uploadFilesContinue(outputId) {\n",
              "  const outputElement = document.getElementById(outputId);\n",
              "  const steps = outputElement.steps;\n",
              "\n",
              "  const next = steps.next(outputElement.lastPromiseValue);\n",
              "  return Promise.resolve(next.value.promise).then((value) => {\n",
              "    // Cache the last promise value to make it available to the next\n",
              "    // step of the generator.\n",
              "    outputElement.lastPromiseValue = value;\n",
              "    return next.value.response;\n",
              "  });\n",
              "}\n",
              "\n",
              "/**\n",
              " * Generator function which is called between each async step of the upload\n",
              " * process.\n",
              " * @param {string} inputId Element ID of the input file picker element.\n",
              " * @param {string} outputId Element ID of the output display.\n",
              " * @return {!Iterable<!Object>} Iterable of next steps.\n",
              " */\n",
              "function* uploadFilesStep(inputId, outputId) {\n",
              "  const inputElement = document.getElementById(inputId);\n",
              "  inputElement.disabled = false;\n",
              "\n",
              "  const outputElement = document.getElementById(outputId);\n",
              "  outputElement.innerHTML = '';\n",
              "\n",
              "  const pickedPromise = new Promise((resolve) => {\n",
              "    inputElement.addEventListener('change', (e) => {\n",
              "      resolve(e.target.files);\n",
              "    });\n",
              "  });\n",
              "\n",
              "  const cancel = document.createElement('button');\n",
              "  inputElement.parentElement.appendChild(cancel);\n",
              "  cancel.textContent = 'Cancel upload';\n",
              "  const cancelPromise = new Promise((resolve) => {\n",
              "    cancel.onclick = () => {\n",
              "      resolve(null);\n",
              "    };\n",
              "  });\n",
              "\n",
              "  // Wait for the user to pick the files.\n",
              "  const files = yield {\n",
              "    promise: Promise.race([pickedPromise, cancelPromise]),\n",
              "    response: {\n",
              "      action: 'starting',\n",
              "    }\n",
              "  };\n",
              "\n",
              "  cancel.remove();\n",
              "\n",
              "  // Disable the input element since further picks are not allowed.\n",
              "  inputElement.disabled = true;\n",
              "\n",
              "  if (!files) {\n",
              "    return {\n",
              "      response: {\n",
              "        action: 'complete',\n",
              "      }\n",
              "    };\n",
              "  }\n",
              "\n",
              "  for (const file of files) {\n",
              "    const li = document.createElement('li');\n",
              "    li.append(span(file.name, {fontWeight: 'bold'}));\n",
              "    li.append(span(\n",
              "        `(${file.type || 'n/a'}) - ${file.size} bytes, ` +\n",
              "        `last modified: ${\n",
              "            file.lastModifiedDate ? file.lastModifiedDate.toLocaleDateString() :\n",
              "                                    'n/a'} - `));\n",
              "    const percent = span('0% done');\n",
              "    li.appendChild(percent);\n",
              "\n",
              "    outputElement.appendChild(li);\n",
              "\n",
              "    const fileDataPromise = new Promise((resolve) => {\n",
              "      const reader = new FileReader();\n",
              "      reader.onload = (e) => {\n",
              "        resolve(e.target.result);\n",
              "      };\n",
              "      reader.readAsArrayBuffer(file);\n",
              "    });\n",
              "    // Wait for the data to be ready.\n",
              "    let fileData = yield {\n",
              "      promise: fileDataPromise,\n",
              "      response: {\n",
              "        action: 'continue',\n",
              "      }\n",
              "    };\n",
              "\n",
              "    // Use a chunked sending to avoid message size limits. See b/62115660.\n",
              "    let position = 0;\n",
              "    do {\n",
              "      const length = Math.min(fileData.byteLength - position, MAX_PAYLOAD_SIZE);\n",
              "      const chunk = new Uint8Array(fileData, position, length);\n",
              "      position += length;\n",
              "\n",
              "      const base64 = btoa(String.fromCharCode.apply(null, chunk));\n",
              "      yield {\n",
              "        response: {\n",
              "          action: 'append',\n",
              "          file: file.name,\n",
              "          data: base64,\n",
              "        },\n",
              "      };\n",
              "\n",
              "      let percentDone = fileData.byteLength === 0 ?\n",
              "          100 :\n",
              "          Math.round((position / fileData.byteLength) * 100);\n",
              "      percent.textContent = `${percentDone}% done`;\n",
              "\n",
              "    } while (position < fileData.byteLength);\n",
              "  }\n",
              "\n",
              "  // All done.\n",
              "  yield {\n",
              "    response: {\n",
              "      action: 'complete',\n",
              "    }\n",
              "  };\n",
              "}\n",
              "\n",
              "scope.google = scope.google || {};\n",
              "scope.google.colab = scope.google.colab || {};\n",
              "scope.google.colab._files = {\n",
              "  _uploadFiles,\n",
              "  _uploadFilesContinue,\n",
              "};\n",
              "})(self);\n",
              "</script> "
            ]
          },
          "metadata": {}
        },
        {
          "output_type": "stream",
          "name": "stdout",
          "text": [
            "Saving Maternal Health Risk Data Set(1).csv to Maternal Health Risk Data Set(1).csv\n"
          ]
        }
      ],
      "source": [
        "from google.colab import files\n",
        "data = files.upload() "
      ]
    },
    {
      "cell_type": "code",
      "execution_count": 3,
      "metadata": {
        "id": "IzjOmjQr8X-4",
        "colab": {
          "base_uri": "https://localhost:8080/",
          "height": 206
        },
        "outputId": "00ac78f8-79b8-4d10-86db-5049fc1200e7"
      },
      "outputs": [
        {
          "output_type": "execute_result",
          "data": {
            "text/plain": [
              "   Age  SystolicBP  DiastolicBP    BS  BodyTemp  HeartRate  RiskLevel\n",
              "0   25         130           80  15.0      98.0         86  high risk\n",
              "1   35         140           90  13.0      98.0         70  high risk\n",
              "2   29          90           70   8.0     100.0         80  high risk\n",
              "3   30         140           85   7.0      98.0         70  high risk\n",
              "4   35         120           60   6.1      98.0         76   low risk"
            ],
            "text/html": [
              "\n",
              "  <div id=\"df-5cf0d257-f714-475b-9dd6-e30d3115a32c\">\n",
              "    <div class=\"colab-df-container\">\n",
              "      <div>\n",
              "<style scoped>\n",
              "    .dataframe tbody tr th:only-of-type {\n",
              "        vertical-align: middle;\n",
              "    }\n",
              "\n",
              "    .dataframe tbody tr th {\n",
              "        vertical-align: top;\n",
              "    }\n",
              "\n",
              "    .dataframe thead th {\n",
              "        text-align: right;\n",
              "    }\n",
              "</style>\n",
              "<table border=\"1\" class=\"dataframe\">\n",
              "  <thead>\n",
              "    <tr style=\"text-align: right;\">\n",
              "      <th></th>\n",
              "      <th>Age</th>\n",
              "      <th>SystolicBP</th>\n",
              "      <th>DiastolicBP</th>\n",
              "      <th>BS</th>\n",
              "      <th>BodyTemp</th>\n",
              "      <th>HeartRate</th>\n",
              "      <th>RiskLevel</th>\n",
              "    </tr>\n",
              "  </thead>\n",
              "  <tbody>\n",
              "    <tr>\n",
              "      <th>0</th>\n",
              "      <td>25</td>\n",
              "      <td>130</td>\n",
              "      <td>80</td>\n",
              "      <td>15.0</td>\n",
              "      <td>98.0</td>\n",
              "      <td>86</td>\n",
              "      <td>high risk</td>\n",
              "    </tr>\n",
              "    <tr>\n",
              "      <th>1</th>\n",
              "      <td>35</td>\n",
              "      <td>140</td>\n",
              "      <td>90</td>\n",
              "      <td>13.0</td>\n",
              "      <td>98.0</td>\n",
              "      <td>70</td>\n",
              "      <td>high risk</td>\n",
              "    </tr>\n",
              "    <tr>\n",
              "      <th>2</th>\n",
              "      <td>29</td>\n",
              "      <td>90</td>\n",
              "      <td>70</td>\n",
              "      <td>8.0</td>\n",
              "      <td>100.0</td>\n",
              "      <td>80</td>\n",
              "      <td>high risk</td>\n",
              "    </tr>\n",
              "    <tr>\n",
              "      <th>3</th>\n",
              "      <td>30</td>\n",
              "      <td>140</td>\n",
              "      <td>85</td>\n",
              "      <td>7.0</td>\n",
              "      <td>98.0</td>\n",
              "      <td>70</td>\n",
              "      <td>high risk</td>\n",
              "    </tr>\n",
              "    <tr>\n",
              "      <th>4</th>\n",
              "      <td>35</td>\n",
              "      <td>120</td>\n",
              "      <td>60</td>\n",
              "      <td>6.1</td>\n",
              "      <td>98.0</td>\n",
              "      <td>76</td>\n",
              "      <td>low risk</td>\n",
              "    </tr>\n",
              "  </tbody>\n",
              "</table>\n",
              "</div>\n",
              "      <button class=\"colab-df-convert\" onclick=\"convertToInteractive('df-5cf0d257-f714-475b-9dd6-e30d3115a32c')\"\n",
              "              title=\"Convert this dataframe to an interactive table.\"\n",
              "              style=\"display:none;\">\n",
              "        \n",
              "  <svg xmlns=\"http://www.w3.org/2000/svg\" height=\"24px\"viewBox=\"0 0 24 24\"\n",
              "       width=\"24px\">\n",
              "    <path d=\"M0 0h24v24H0V0z\" fill=\"none\"/>\n",
              "    <path d=\"M18.56 5.44l.94 2.06.94-2.06 2.06-.94-2.06-.94-.94-2.06-.94 2.06-2.06.94zm-11 1L8.5 8.5l.94-2.06 2.06-.94-2.06-.94L8.5 2.5l-.94 2.06-2.06.94zm10 10l.94 2.06.94-2.06 2.06-.94-2.06-.94-.94-2.06-.94 2.06-2.06.94z\"/><path d=\"M17.41 7.96l-1.37-1.37c-.4-.4-.92-.59-1.43-.59-.52 0-1.04.2-1.43.59L10.3 9.45l-7.72 7.72c-.78.78-.78 2.05 0 2.83L4 21.41c.39.39.9.59 1.41.59.51 0 1.02-.2 1.41-.59l7.78-7.78 2.81-2.81c.8-.78.8-2.07 0-2.86zM5.41 20L4 18.59l7.72-7.72 1.47 1.35L5.41 20z\"/>\n",
              "  </svg>\n",
              "      </button>\n",
              "      \n",
              "  <style>\n",
              "    .colab-df-container {\n",
              "      display:flex;\n",
              "      flex-wrap:wrap;\n",
              "      gap: 12px;\n",
              "    }\n",
              "\n",
              "    .colab-df-convert {\n",
              "      background-color: #E8F0FE;\n",
              "      border: none;\n",
              "      border-radius: 50%;\n",
              "      cursor: pointer;\n",
              "      display: none;\n",
              "      fill: #1967D2;\n",
              "      height: 32px;\n",
              "      padding: 0 0 0 0;\n",
              "      width: 32px;\n",
              "    }\n",
              "\n",
              "    .colab-df-convert:hover {\n",
              "      background-color: #E2EBFA;\n",
              "      box-shadow: 0px 1px 2px rgba(60, 64, 67, 0.3), 0px 1px 3px 1px rgba(60, 64, 67, 0.15);\n",
              "      fill: #174EA6;\n",
              "    }\n",
              "\n",
              "    [theme=dark] .colab-df-convert {\n",
              "      background-color: #3B4455;\n",
              "      fill: #D2E3FC;\n",
              "    }\n",
              "\n",
              "    [theme=dark] .colab-df-convert:hover {\n",
              "      background-color: #434B5C;\n",
              "      box-shadow: 0px 1px 3px 1px rgba(0, 0, 0, 0.15);\n",
              "      filter: drop-shadow(0px 1px 2px rgba(0, 0, 0, 0.3));\n",
              "      fill: #FFFFFF;\n",
              "    }\n",
              "  </style>\n",
              "\n",
              "      <script>\n",
              "        const buttonEl =\n",
              "          document.querySelector('#df-5cf0d257-f714-475b-9dd6-e30d3115a32c button.colab-df-convert');\n",
              "        buttonEl.style.display =\n",
              "          google.colab.kernel.accessAllowed ? 'block' : 'none';\n",
              "\n",
              "        async function convertToInteractive(key) {\n",
              "          const element = document.querySelector('#df-5cf0d257-f714-475b-9dd6-e30d3115a32c');\n",
              "          const dataTable =\n",
              "            await google.colab.kernel.invokeFunction('convertToInteractive',\n",
              "                                                     [key], {});\n",
              "          if (!dataTable) return;\n",
              "\n",
              "          const docLinkHtml = 'Like what you see? Visit the ' +\n",
              "            '<a target=\"_blank\" href=https://colab.research.google.com/notebooks/data_table.ipynb>data table notebook</a>'\n",
              "            + ' to learn more about interactive tables.';\n",
              "          element.innerHTML = '';\n",
              "          dataTable['output_type'] = 'display_data';\n",
              "          await google.colab.output.renderOutput(dataTable, element);\n",
              "          const docLink = document.createElement('div');\n",
              "          docLink.innerHTML = docLinkHtml;\n",
              "          element.appendChild(docLink);\n",
              "        }\n",
              "      </script>\n",
              "    </div>\n",
              "  </div>\n",
              "  "
            ]
          },
          "metadata": {},
          "execution_count": 3
        }
      ],
      "source": [
        "data = pd.read_csv(\"Maternal Health Risk Data Set(1).csv\")\n",
        "data.head()"
      ]
    },
    {
      "cell_type": "code",
      "execution_count": 4,
      "metadata": {
        "id": "XK9AHHRFAFXI",
        "colab": {
          "base_uri": "https://localhost:8080/",
          "height": 269
        },
        "outputId": "1567c489-257c-45aa-97c3-3d18a2649543"
      },
      "outputs": [
        {
          "output_type": "execute_result",
          "data": {
            "text/plain": [
              "              count unique       top freq        mean        std   min    25%  \\\n",
              "Age          1014.0    NaN       NaN  NaN   29.871795  13.474386  10.0   19.0   \n",
              "SystolicBP   1014.0    NaN       NaN  NaN  113.198225  18.403913  70.0  100.0   \n",
              "DiastolicBP  1014.0    NaN       NaN  NaN   76.460552  13.885796  49.0   65.0   \n",
              "BS           1014.0    NaN       NaN  NaN    8.725986   3.293532   6.0    6.9   \n",
              "BodyTemp     1014.0    NaN       NaN  NaN   98.665089   1.371384  98.0   98.0   \n",
              "HeartRate    1014.0    NaN       NaN  NaN   74.301775   8.088702   7.0   70.0   \n",
              "RiskLevel      1014      3  low risk  406         NaN        NaN   NaN    NaN   \n",
              "\n",
              "               50%    75%    max  \n",
              "Age           26.0   39.0   70.0  \n",
              "SystolicBP   120.0  120.0  160.0  \n",
              "DiastolicBP   80.0   90.0  100.0  \n",
              "BS             7.5    8.0   19.0  \n",
              "BodyTemp      98.0   98.0  103.0  \n",
              "HeartRate     76.0   80.0   90.0  \n",
              "RiskLevel      NaN    NaN    NaN  "
            ],
            "text/html": [
              "\n",
              "  <div id=\"df-a8951358-0751-41aa-841c-da3ad359427d\">\n",
              "    <div class=\"colab-df-container\">\n",
              "      <div>\n",
              "<style scoped>\n",
              "    .dataframe tbody tr th:only-of-type {\n",
              "        vertical-align: middle;\n",
              "    }\n",
              "\n",
              "    .dataframe tbody tr th {\n",
              "        vertical-align: top;\n",
              "    }\n",
              "\n",
              "    .dataframe thead th {\n",
              "        text-align: right;\n",
              "    }\n",
              "</style>\n",
              "<table border=\"1\" class=\"dataframe\">\n",
              "  <thead>\n",
              "    <tr style=\"text-align: right;\">\n",
              "      <th></th>\n",
              "      <th>count</th>\n",
              "      <th>unique</th>\n",
              "      <th>top</th>\n",
              "      <th>freq</th>\n",
              "      <th>mean</th>\n",
              "      <th>std</th>\n",
              "      <th>min</th>\n",
              "      <th>25%</th>\n",
              "      <th>50%</th>\n",
              "      <th>75%</th>\n",
              "      <th>max</th>\n",
              "    </tr>\n",
              "  </thead>\n",
              "  <tbody>\n",
              "    <tr>\n",
              "      <th>Age</th>\n",
              "      <td>1014.0</td>\n",
              "      <td>NaN</td>\n",
              "      <td>NaN</td>\n",
              "      <td>NaN</td>\n",
              "      <td>29.871795</td>\n",
              "      <td>13.474386</td>\n",
              "      <td>10.0</td>\n",
              "      <td>19.0</td>\n",
              "      <td>26.0</td>\n",
              "      <td>39.0</td>\n",
              "      <td>70.0</td>\n",
              "    </tr>\n",
              "    <tr>\n",
              "      <th>SystolicBP</th>\n",
              "      <td>1014.0</td>\n",
              "      <td>NaN</td>\n",
              "      <td>NaN</td>\n",
              "      <td>NaN</td>\n",
              "      <td>113.198225</td>\n",
              "      <td>18.403913</td>\n",
              "      <td>70.0</td>\n",
              "      <td>100.0</td>\n",
              "      <td>120.0</td>\n",
              "      <td>120.0</td>\n",
              "      <td>160.0</td>\n",
              "    </tr>\n",
              "    <tr>\n",
              "      <th>DiastolicBP</th>\n",
              "      <td>1014.0</td>\n",
              "      <td>NaN</td>\n",
              "      <td>NaN</td>\n",
              "      <td>NaN</td>\n",
              "      <td>76.460552</td>\n",
              "      <td>13.885796</td>\n",
              "      <td>49.0</td>\n",
              "      <td>65.0</td>\n",
              "      <td>80.0</td>\n",
              "      <td>90.0</td>\n",
              "      <td>100.0</td>\n",
              "    </tr>\n",
              "    <tr>\n",
              "      <th>BS</th>\n",
              "      <td>1014.0</td>\n",
              "      <td>NaN</td>\n",
              "      <td>NaN</td>\n",
              "      <td>NaN</td>\n",
              "      <td>8.725986</td>\n",
              "      <td>3.293532</td>\n",
              "      <td>6.0</td>\n",
              "      <td>6.9</td>\n",
              "      <td>7.5</td>\n",
              "      <td>8.0</td>\n",
              "      <td>19.0</td>\n",
              "    </tr>\n",
              "    <tr>\n",
              "      <th>BodyTemp</th>\n",
              "      <td>1014.0</td>\n",
              "      <td>NaN</td>\n",
              "      <td>NaN</td>\n",
              "      <td>NaN</td>\n",
              "      <td>98.665089</td>\n",
              "      <td>1.371384</td>\n",
              "      <td>98.0</td>\n",
              "      <td>98.0</td>\n",
              "      <td>98.0</td>\n",
              "      <td>98.0</td>\n",
              "      <td>103.0</td>\n",
              "    </tr>\n",
              "    <tr>\n",
              "      <th>HeartRate</th>\n",
              "      <td>1014.0</td>\n",
              "      <td>NaN</td>\n",
              "      <td>NaN</td>\n",
              "      <td>NaN</td>\n",
              "      <td>74.301775</td>\n",
              "      <td>8.088702</td>\n",
              "      <td>7.0</td>\n",
              "      <td>70.0</td>\n",
              "      <td>76.0</td>\n",
              "      <td>80.0</td>\n",
              "      <td>90.0</td>\n",
              "    </tr>\n",
              "    <tr>\n",
              "      <th>RiskLevel</th>\n",
              "      <td>1014</td>\n",
              "      <td>3</td>\n",
              "      <td>low risk</td>\n",
              "      <td>406</td>\n",
              "      <td>NaN</td>\n",
              "      <td>NaN</td>\n",
              "      <td>NaN</td>\n",
              "      <td>NaN</td>\n",
              "      <td>NaN</td>\n",
              "      <td>NaN</td>\n",
              "      <td>NaN</td>\n",
              "    </tr>\n",
              "  </tbody>\n",
              "</table>\n",
              "</div>\n",
              "      <button class=\"colab-df-convert\" onclick=\"convertToInteractive('df-a8951358-0751-41aa-841c-da3ad359427d')\"\n",
              "              title=\"Convert this dataframe to an interactive table.\"\n",
              "              style=\"display:none;\">\n",
              "        \n",
              "  <svg xmlns=\"http://www.w3.org/2000/svg\" height=\"24px\"viewBox=\"0 0 24 24\"\n",
              "       width=\"24px\">\n",
              "    <path d=\"M0 0h24v24H0V0z\" fill=\"none\"/>\n",
              "    <path d=\"M18.56 5.44l.94 2.06.94-2.06 2.06-.94-2.06-.94-.94-2.06-.94 2.06-2.06.94zm-11 1L8.5 8.5l.94-2.06 2.06-.94-2.06-.94L8.5 2.5l-.94 2.06-2.06.94zm10 10l.94 2.06.94-2.06 2.06-.94-2.06-.94-.94-2.06-.94 2.06-2.06.94z\"/><path d=\"M17.41 7.96l-1.37-1.37c-.4-.4-.92-.59-1.43-.59-.52 0-1.04.2-1.43.59L10.3 9.45l-7.72 7.72c-.78.78-.78 2.05 0 2.83L4 21.41c.39.39.9.59 1.41.59.51 0 1.02-.2 1.41-.59l7.78-7.78 2.81-2.81c.8-.78.8-2.07 0-2.86zM5.41 20L4 18.59l7.72-7.72 1.47 1.35L5.41 20z\"/>\n",
              "  </svg>\n",
              "      </button>\n",
              "      \n",
              "  <style>\n",
              "    .colab-df-container {\n",
              "      display:flex;\n",
              "      flex-wrap:wrap;\n",
              "      gap: 12px;\n",
              "    }\n",
              "\n",
              "    .colab-df-convert {\n",
              "      background-color: #E8F0FE;\n",
              "      border: none;\n",
              "      border-radius: 50%;\n",
              "      cursor: pointer;\n",
              "      display: none;\n",
              "      fill: #1967D2;\n",
              "      height: 32px;\n",
              "      padding: 0 0 0 0;\n",
              "      width: 32px;\n",
              "    }\n",
              "\n",
              "    .colab-df-convert:hover {\n",
              "      background-color: #E2EBFA;\n",
              "      box-shadow: 0px 1px 2px rgba(60, 64, 67, 0.3), 0px 1px 3px 1px rgba(60, 64, 67, 0.15);\n",
              "      fill: #174EA6;\n",
              "    }\n",
              "\n",
              "    [theme=dark] .colab-df-convert {\n",
              "      background-color: #3B4455;\n",
              "      fill: #D2E3FC;\n",
              "    }\n",
              "\n",
              "    [theme=dark] .colab-df-convert:hover {\n",
              "      background-color: #434B5C;\n",
              "      box-shadow: 0px 1px 3px 1px rgba(0, 0, 0, 0.15);\n",
              "      filter: drop-shadow(0px 1px 2px rgba(0, 0, 0, 0.3));\n",
              "      fill: #FFFFFF;\n",
              "    }\n",
              "  </style>\n",
              "\n",
              "      <script>\n",
              "        const buttonEl =\n",
              "          document.querySelector('#df-a8951358-0751-41aa-841c-da3ad359427d button.colab-df-convert');\n",
              "        buttonEl.style.display =\n",
              "          google.colab.kernel.accessAllowed ? 'block' : 'none';\n",
              "\n",
              "        async function convertToInteractive(key) {\n",
              "          const element = document.querySelector('#df-a8951358-0751-41aa-841c-da3ad359427d');\n",
              "          const dataTable =\n",
              "            await google.colab.kernel.invokeFunction('convertToInteractive',\n",
              "                                                     [key], {});\n",
              "          if (!dataTable) return;\n",
              "\n",
              "          const docLinkHtml = 'Like what you see? Visit the ' +\n",
              "            '<a target=\"_blank\" href=https://colab.research.google.com/notebooks/data_table.ipynb>data table notebook</a>'\n",
              "            + ' to learn more about interactive tables.';\n",
              "          element.innerHTML = '';\n",
              "          dataTable['output_type'] = 'display_data';\n",
              "          await google.colab.output.renderOutput(dataTable, element);\n",
              "          const docLink = document.createElement('div');\n",
              "          docLink.innerHTML = docLinkHtml;\n",
              "          element.appendChild(docLink);\n",
              "        }\n",
              "      </script>\n",
              "    </div>\n",
              "  </div>\n",
              "  "
            ]
          },
          "metadata": {},
          "execution_count": 4
        }
      ],
      "source": [
        "data.describe(include=\"all\").T"
      ]
    },
    {
      "cell_type": "code",
      "execution_count": 5,
      "metadata": {
        "id": "cfydG4-gCQJ5",
        "colab": {
          "base_uri": "https://localhost:8080/"
        },
        "outputId": "7fb74ac1-7c31-466b-ce63-ce7fd83eefe0"
      },
      "outputs": [
        {
          "output_type": "execute_result",
          "data": {
            "text/plain": [
              "(1014, 7)"
            ]
          },
          "metadata": {},
          "execution_count": 5
        }
      ],
      "source": [
        "data.shape"
      ]
    },
    {
      "cell_type": "code",
      "execution_count": 6,
      "metadata": {
        "id": "vrstoGRBCoAG",
        "colab": {
          "base_uri": "https://localhost:8080/"
        },
        "outputId": "7ed9483a-2332-4eeb-cceb-4c8320e1e1b2"
      },
      "outputs": [
        {
          "output_type": "execute_result",
          "data": {
            "text/plain": [
              "Age            0\n",
              "SystolicBP     0\n",
              "DiastolicBP    0\n",
              "BS             0\n",
              "BodyTemp       0\n",
              "HeartRate      0\n",
              "RiskLevel      0\n",
              "dtype: int64"
            ]
          },
          "metadata": {},
          "execution_count": 6
        }
      ],
      "source": [
        "data.isnull().sum()"
      ]
    },
    {
      "cell_type": "code",
      "execution_count": 7,
      "metadata": {
        "id": "uqABvtbiCtlg",
        "colab": {
          "base_uri": "https://localhost:8080/",
          "height": 410
        },
        "outputId": "763f2fb2-efda-4fa2-ebeb-3ff452dc9963"
      },
      "outputs": [
        {
          "output_type": "display_data",
          "data": {
            "text/plain": [
              "<Figure size 1200x400 with 2 Axes>"
            ],
            "image/png": "[encoded data removed]"
          },
          "metadata": {}
        }
      ],
      "source": [
        "#Checking for outliers\n",
        "def num_plot(data,col):\n",
        "   fig, ax = plt.subplots(1, 2,figsize=(12,4))\n",
        "   sns.histplot(data=data, x=col, kde=True, ax=ax[0]) \n",
        "   sns.boxplot(data=data, x=col, ax=ax[1]) \n",
        "   ax[0].set_title(f\"{col} Distribution Histogram\") \n",
        "   ax[1].set_title(f\"{col} Distribution Boxplot\") \n",
        "   plt.show()\n",
        "num_plot(data,'Age')"
      ]
    },
    {
      "cell_type": "code",
      "execution_count": 8,
      "metadata": {
        "id": "Z_hDkRCBC2xQ",
        "colab": {
          "base_uri": "https://localhost:8080/",
          "height": 410
        },
        "outputId": "fb492a57-f0cb-447d-af2b-3ca40ff7b1bb"
      },
      "outputs": [
        {
          "output_type": "display_data",
          "data": {
            "text/plain": [
              "<Figure size 1200x400 with 2 Axes>"
            ],
            "image/png": "[encoded data removed]"
          },
          "metadata": {}
        }
      ],
      "source": [
        "num_plot(data,'SystolicBP')"
      ]
    },
    {
      "cell_type": "code",
      "execution_count": 9,
      "metadata": {
        "id": "i2nkeV7hC6Qs",
        "colab": {
          "base_uri": "https://localhost:8080/",
          "height": 410
        },
        "outputId": "504cdf85-8cef-4588-d1a8-efbe8feb5284"
      },
      "outputs": [
        {
          "output_type": "display_data",
          "data": {
            "text/plain": [
              "<Figure size 1200x400 with 2 Axes>"
            ],
            "image/png": "[encoded data removed]"
          },
          "metadata": {}
        }
      ],
      "source": [
        "num_plot(data,'DiastolicBP')"
      ]
    },
    {
      "cell_type": "code",
      "execution_count": 10,
      "metadata": {
        "id": "aRdnC_AjC_dG",
        "colab": {
          "base_uri": "https://localhost:8080/",
          "height": 410
        },
        "outputId": "605941ea-155b-41be-d5e4-bb881a6a08b7"
      },
      "outputs": [
        {
          "output_type": "display_data",
          "data": {
            "text/plain": [
              "<Figure size 1200x400 with 2 Axes>"
            ],
            "image/png": "[encoded data removed]"
          },
          "metadata": {}
        }
      ],
      "source": [
        "num_plot(data,'BS')"
      ]
    },
    {
      "cell_type": "code",
      "execution_count": 11,
      "metadata": {
        "id": "5NRbAR_CDAdO",
        "colab": {
          "base_uri": "https://localhost:8080/",
          "height": 410
        },
        "outputId": "fd536e0b-d1f5-40c4-b4cd-041906e09066"
      },
      "outputs": [
        {
          "output_type": "display_data",
          "data": {
            "text/plain": [
              "<Figure size 1200x400 with 2 Axes>"
            ],
            "image/png": "[encoded data removed]"
          },
          "metadata": {}
        }
      ],
      "source": [
        "num_plot(data,'BodyTemp')"
      ]
    },
    {
      "cell_type": "code",
      "execution_count": 12,
      "metadata": {
        "id": "2ui7pzl7DDxd",
        "colab": {
          "base_uri": "https://localhost:8080/",
          "height": 410
        },
        "outputId": "33ad0ce6-0baa-4893-83b5-f4bc0f5168af"
      },
      "outputs": [
        {
          "output_type": "display_data",
          "data": {
            "text/plain": [
              "<Figure size 1200x400 with 2 Axes>"
            ],
            "image/png": "[encoded data removed]"
          },
          "metadata": {}
        }
      ],
      "source": [
        "num_plot(data,'HeartRate')"
      ]
    },
    {
      "cell_type": "code",
      "execution_count": 13,
      "metadata": {
        "id": "8pzGjyA8DMbM"
      },
      "outputs": [],
      "source": [
        "#Handling outliers\n",
        "data=data.drop(data.index [data.HeartRate == 7])"
      ]
    },
    {
      "cell_type": "code",
      "execution_count": 14,
      "metadata": {
        "id": "X9-rYGxpDRYd",
        "colab": {
          "base_uri": "https://localhost:8080/",
          "height": 410
        },
        "outputId": "561a1406-9986-4ba6-810f-0f00696e4b38"
      },
      "outputs": [
        {
          "output_type": "display_data",
          "data": {
            "text/plain": [
              "<Figure size 1200x400 with 2 Axes>"
            ],
            "image/png": "[encoded data removed]"
          },
          "metadata": {}
        }
      ],
      "source": [
        "num_plot(data,'HeartRate')"
      ]
    },
    {
      "cell_type": "code",
      "execution_count": 45,
      "metadata": {
        "id": "xoOJWDexDWVY"
      },
      "outputs": [],
      "source": [
        "X=data.drop(\"RiskLevel\", axis=1) \n",
        "y= data.RiskLevel \n",
        "X_train, X_test, y_train, y_test=split(X, y, test_size=0.2, random_state=1)"
      ]
    },
    {
      "cell_type": "code",
      "execution_count": 16,
      "metadata": {
        "id": "k7hW6MNY78Fm",
        "colab": {
          "base_uri": "https://localhost:8080/"
        },
        "outputId": "f59a8689-1bc4-4fa4-85a1-bbc4351960f5"
      },
      "outputs": [
        {
          "output_type": "stream",
          "name": "stdout",
          "text": [
            "Training Accuracy:0.9208899876390606\n",
            "Testing Accuracy:0.8719211822660099\n"
          ]
        }
      ],
      "source": [
        "#Decision tree model\n",
        "dt= DecisionTreeClassifier()\n",
        "dt.fit(X_train,y_train)\n",
        "dt_train_pred=dt.predict(X_train)\n",
        "dt_test_pred = dt.predict(X_test)\n",
        "train_acc = accuracy_score(y_train,dt_train_pred)\n",
        "test_acc=accuracy_score(y_test,dt_test_pred)\n",
        "print(\"Training Accuracy:{}\".format(train_acc))\n",
        "print(\"Testing Accuracy:{}\".format(test_acc))"
      ]
    },
    {
      "cell_type": "code",
      "execution_count": 17,
      "metadata": {
        "id": "Choch87V8LcD",
        "colab": {
          "base_uri": "https://localhost:8080/"
        },
        "outputId": "bde356f9-5ddc-44e6-9d88-35b49f575f64"
      },
      "outputs": [
        {
          "output_type": "stream",
          "name": "stdout",
          "text": [
            "Training Accuracy :0.788627935723115\n",
            "Testing Accuracy:0.7536945812807881\n"
          ]
        }
      ],
      "source": [
        "#knn Model\n",
        "knn = KNeighborsClassifier(n_neighbors=5)\n",
        "knn.fit(X_train, y_train)\n",
        "knn_train_pred=knn.predict(X_train)\n",
        "knn_test_pred=knn.predict(X_test)\n",
        "train_acc = accuracy_score(y_train,knn_train_pred)\n",
        "test_acc=accuracy_score(y_test,knn_test_pred)\n",
        "print(\"Training Accuracy :{}\".format(train_acc))\n",
        "print(\"Testing Accuracy:{}\".format(test_acc))"
      ]
    },
    {
      "cell_type": "code",
      "execution_count": 18,
      "metadata": {
        "id": "Mf1khpvR7pjP",
        "colab": {
          "base_uri": "https://localhost:8080/"
        },
        "outputId": "340c82e1-4ecb-4061-81fe-c50e911a5250"
      },
      "outputs": [
        {
          "output_type": "stream",
          "name": "stdout",
          "text": [
            "Training Accuracy:0.5896168108776267\n",
            "Testing Accuracy:0.6009852216748769\n"
          ]
        }
      ],
      "source": [
        "#Support Vector Machine model\n",
        "Svm= SVC()\n",
        "Svm.fit(X_train,y_train)\n",
        "Svm_train_pred= Svm.predict(X_train)\n",
        "Svm_test_pred=Svm.predict(X_test)\n",
        "train_acc = accuracy_score(y_train,Svm_train_pred)\n",
        "test_acc=accuracy_score(y_test,Svm_test_pred)\n",
        "print(\"Training Accuracy:{}\".format(train_acc))\n",
        "print(\"Testing Accuracy:{}\".format(test_acc))"
      ]
    },
    {
      "cell_type": "code",
      "execution_count": 19,
      "metadata": {
        "id": "ire2UNGx7imP",
        "colab": {
          "base_uri": "https://localhost:8080/"
        },
        "outputId": "8c2f36ed-bafc-4a36-c00c-42ee1d0dfafd"
      },
      "outputs": [
        {
          "output_type": "stream",
          "name": "stdout",
          "text": [
            "Training Accuracy:0.9208899876390606 \n",
            "Testing Accuracy:0.8817733990147784\n"
          ]
        }
      ],
      "source": [
        "#Random Forest model\n",
        "rf= RandomForestClassifier()\n",
        "rf.fit(X_train, y_train)\n",
        "rf_train_pred= rf.predict(X_train)\n",
        "rf_test_pred=rf.predict(X_test)\n",
        "train_acc= accuracy_score(y_train,rf_train_pred)\n",
        "test_acc=accuracy_score(y_test,rf_test_pred)\n",
        "print(\"Training Accuracy:{} \".format(train_acc))\n",
        "print(\"Testing Accuracy:{}\".format(test_acc))"
      ]
    },
    {
      "cell_type": "code",
      "execution_count": 20,
      "metadata": {
        "id": "ttOLu0ab56-8",
        "colab": {
          "base_uri": "https://localhost:8080/"
        },
        "outputId": "12e322bf-1651-4722-a867-9aac2f437c3c"
      },
      "outputs": [
        {
          "output_type": "stream",
          "name": "stdout",
          "text": [
            "Training Accuracy:0.6069221260815822\n",
            "Testing Accuracy:0.5862068965517241\n"
          ]
        }
      ],
      "source": [
        "#Logistic Regression model\n",
        "lr = LogisticRegression()\n",
        "lr.fit(X_train, y_train)\n",
        "lr_train_pred= lr.predict(X_train)\n",
        "lr_test_pred= lr.predict(X_test)\n",
        "train_acc = accuracy_score(y_train,lr_train_pred)\n",
        "test_acc=accuracy_score(y_test,lr_test_pred)\n",
        "print(\"Training Accuracy:{}\".format(train_acc))\n",
        "print(\"Testing Accuracy:{}\".format(test_acc))"
      ]
    },
    {
      "cell_type": "code",
      "execution_count": 21,
      "metadata": {
        "id": "IBNKpVyyI4dX",
        "colab": {
          "base_uri": "https://localhost:8080/"
        },
        "outputId": "12731837-3c2d-49a7-8f92-11e9a8cf2766"
      },
      "outputs": [
        {
          "output_type": "stream",
          "name": "stdout",
          "text": [
            "Testing accuracy: 0.8620689655172413\n",
            "Training accuracy: 0.9171817058096415\n"
          ]
        }
      ],
      "source": [
        "# Bagging Classifier model\n",
        "bc =BaggingClassifier() \n",
        "bc.fit(X_train,y_train) \n",
        "bc_train_pred=bc.predict(X_train) \n",
        "bc_test_pred=bc.predict(X_test) \n",
        "train_acc=accuracy_score (y_train,bc_train_pred) \n",
        "test_acc=accuracy_score (y_test,bc_test_pred) \n",
        "print(\"Testing accuracy: {}\". format(test_acc)) \n",
        "print(\"Training accuracy: {}\". format(train_acc))"
      ]
    },
    {
      "cell_type": "code",
      "execution_count": 22,
      "metadata": {
        "id": "zUMVRACuJQLP",
        "colab": {
          "base_uri": "https://localhost:8080/"
        },
        "outputId": "01ae643d-7b7a-46d2-c8fe-bea9a243d06e"
      },
      "outputs": [
        {
          "output_type": "stream",
          "name": "stdout",
          "text": [
            "Training accuracy: 0.6761433868974042\n",
            "Testing accuracy: 0.6798029556650246\n"
          ]
        }
      ],
      "source": [
        "#Adaboost Classifier model\n",
        "abc=AdaBoostClassifier() \n",
        "abc.fit(X_train,y_train) \n",
        "abc_train_pred=abc.predict(X_train) \n",
        "abc_test_pred=abc.predict(X_test) \n",
        "train_acc=accuracy_score (y_train, abc_train_pred) \n",
        "test_acc=accuracy_score (y_test, abc_test_pred) \n",
        "print(\"Training accuracy: {}\". format (train_acc)) \n",
        "print(\"Testing accuracy: {}\". format(test_acc))"
      ]
    },
    {
      "cell_type": "code",
      "execution_count": 23,
      "metadata": {
        "id": "6FbgbkUcJzDJ",
        "colab": {
          "base_uri": "https://localhost:8080/"
        },
        "outputId": "444857b4-1b57-4774-9755-0a16c063aa1c"
      },
      "outputs": [
        {
          "output_type": "stream",
          "name": "stdout",
          "text": [
            "Testing accuracy: 0.6798029556650246\n",
            "Training accuracy: 0.5970333745364648\n"
          ]
        }
      ],
      "source": [
        "#Naive Bayes model\n",
        "gnb = GaussianNB() \n",
        "gnb.fit(X_train,y_train) \n",
        "gnb_train_pred=gnb.predict(X_train) \n",
        "gnb_test_pred=gnb.predict(X_test) \n",
        "train_acc=accuracy_score (y_train, gnb_train_pred) \n",
        "print(\"Testing accuracy: {}\". format (test_acc)) \n",
        "test_acc=accuracy_score(y_test,gnb_test_pred) \n",
        "print(\"Training accuracy: {}\".format(train_acc))"
      ]
    },
    {
      "cell_type": "code",
      "execution_count": 24,
      "metadata": {
        "id": "0lkO1_O6Nu35",
        "colab": {
          "base_uri": "https://localhost:8080/"
        },
        "outputId": "f176f672-537f-4712-9dd1-0aa7a0055eae"
      },
      "outputs": [
        {
          "output_type": "stream",
          "name": "stdout",
          "text": [
            "              precision    recall  f1-score   support\n",
            "\n",
            "   high risk       0.91      0.92      0.91        64\n",
            "    low risk       0.88      0.84      0.86        79\n",
            "    mid risk       0.83      0.87      0.85        60\n",
            "\n",
            "    accuracy                           0.87       203\n",
            "   macro avg       0.87      0.87      0.87       203\n",
            "weighted avg       0.87      0.87      0.87       203\n",
            "\n"
          ]
        },
        {
          "output_type": "execute_result",
          "data": {
            "text/plain": [
              "array([[59,  3,  2],\n",
              "       [ 4, 66,  9],\n",
              "       [ 2,  6, 52]])"
            ]
          },
          "metadata": {},
          "execution_count": 24
        }
      ],
      "source": [
        "#Decision tree\n",
        "print(classification_report (y_test,dt_test_pred)) \n",
        "confusion_matrix(y_test, dt_test_pred)"
      ]
    },
    {
      "cell_type": "code",
      "execution_count": 25,
      "metadata": {
        "id": "qYvPaCJIQpdm",
        "colab": {
          "base_uri": "https://localhost:8080/"
        },
        "outputId": "9b9857a6-7c74-4a13-d170-3d8dc7f4b8ca"
      },
      "outputs": [
        {
          "output_type": "stream",
          "name": "stdout",
          "text": [
            "              precision    recall  f1-score   support\n",
            "\n",
            "   high risk       0.88      0.83      0.85        64\n",
            "    low risk       0.72      0.80      0.76        79\n",
            "    mid risk       0.66      0.62      0.64        60\n",
            "\n",
            "    accuracy                           0.75       203\n",
            "   macro avg       0.76      0.75      0.75       203\n",
            "weighted avg       0.76      0.75      0.75       203\n",
            "\n"
          ]
        },
        {
          "output_type": "execute_result",
          "data": {
            "text/plain": [
              "array([[53,  5,  6],\n",
              "       [ 3, 63, 13],\n",
              "       [ 4, 19, 37]])"
            ]
          },
          "metadata": {},
          "execution_count": 25
        }
      ],
      "source": [
        "#knn \n",
        "print(classification_report (y_test,knn_test_pred)) \n",
        "confusion_matrix(y_test, knn_test_pred)"
      ]
    },
    {
      "cell_type": "code",
      "execution_count": 26,
      "metadata": {
        "id": "SjBlhBwdRGFT",
        "colab": {
          "base_uri": "https://localhost:8080/"
        },
        "outputId": "0ef96051-c358-4278-f2a5-1ece7c21915d"
      },
      "outputs": [
        {
          "output_type": "stream",
          "name": "stdout",
          "text": [
            "              precision    recall  f1-score   support\n",
            "\n",
            "   high risk       0.89      0.52      0.65        64\n",
            "    low risk       0.56      0.86      0.68        79\n",
            "    mid risk       0.47      0.35      0.40        60\n",
            "\n",
            "    accuracy                           0.60       203\n",
            "   macro avg       0.64      0.58      0.58       203\n",
            "weighted avg       0.64      0.60      0.59       203\n",
            "\n"
          ]
        },
        {
          "output_type": "execute_result",
          "data": {
            "text/plain": [
              "array([[33, 18, 13],\n",
              "       [ 0, 68, 11],\n",
              "       [ 4, 35, 21]])"
            ]
          },
          "metadata": {},
          "execution_count": 26
        }
      ],
      "source": [
        "#SVM\n",
        "print(classification_report (y_test,Svm_test_pred)) \n",
        "confusion_matrix(y_test, Svm_test_pred)"
      ]
    },
    {
      "cell_type": "code",
      "execution_count": 27,
      "metadata": {
        "id": "8tfNOljYSXbt",
        "colab": {
          "base_uri": "https://localhost:8080/"
        },
        "outputId": "27db8cf1-f187-49da-cb0d-c459eb8f13ad"
      },
      "outputs": [
        {
          "output_type": "stream",
          "name": "stdout",
          "text": [
            "              precision    recall  f1-score   support\n",
            "\n",
            "   high risk       0.95      0.94      0.94        64\n",
            "    low risk       0.88      0.87      0.88        79\n",
            "    mid risk       0.81      0.83      0.82        60\n",
            "\n",
            "    accuracy                           0.88       203\n",
            "   macro avg       0.88      0.88      0.88       203\n",
            "weighted avg       0.88      0.88      0.88       203\n",
            "\n"
          ]
        },
        {
          "output_type": "execute_result",
          "data": {
            "text/plain": [
              "array([[60,  1,  3],\n",
              "       [ 1, 69,  9],\n",
              "       [ 2,  8, 50]])"
            ]
          },
          "metadata": {},
          "execution_count": 27
        }
      ],
      "source": [
        "#Random forest\n",
        "print(classification_report (y_test,rf_test_pred)) \n",
        "confusion_matrix(y_test, rf_test_pred)"
      ]
    },
    {
      "cell_type": "code",
      "execution_count": 27,
      "metadata": {
        "id": "mNKUjljMenjH"
      },
      "outputs": [],
      "source": []
    },
    {
      "cell_type": "code",
      "execution_count": 28,
      "metadata": {
        "id": "Q9iXsGPoRS8p",
        "colab": {
          "base_uri": "https://localhost:8080/"
        },
        "outputId": "464254ee-6efe-44f3-c263-9d1b43f829c2"
      },
      "outputs": [
        {
          "output_type": "stream",
          "name": "stdout",
          "text": [
            "              precision    recall  f1-score   support\n",
            "\n",
            "   high risk       0.84      0.59      0.70        64\n",
            "    low risk       0.59      0.72      0.65        79\n",
            "    mid risk       0.39      0.40      0.39        60\n",
            "\n",
            "    accuracy                           0.59       203\n",
            "   macro avg       0.61      0.57      0.58       203\n",
            "weighted avg       0.61      0.59      0.59       203\n",
            "\n"
          ]
        },
        {
          "output_type": "execute_result",
          "data": {
            "text/plain": [
              "array([[38,  9, 17],\n",
              "       [ 1, 57, 21],\n",
              "       [ 6, 30, 24]])"
            ]
          },
          "metadata": {},
          "execution_count": 28
        }
      ],
      "source": [
        "#logistic regression\n",
        "print(classification_report (y_test,lr_test_pred)) \n",
        "confusion_matrix(y_test, lr_test_pred)"
      ]
    },
    {
      "cell_type": "code",
      "execution_count": 29,
      "metadata": {
        "id": "rReVv9iQRdlT",
        "colab": {
          "base_uri": "https://localhost:8080/"
        },
        "outputId": "6cfb211d-753a-49a8-c14a-abf93d69fb1e"
      },
      "outputs": [
        {
          "output_type": "stream",
          "name": "stdout",
          "text": [
            "              precision    recall  f1-score   support\n",
            "\n",
            "   high risk       0.91      0.94      0.92        64\n",
            "    low risk       0.85      0.84      0.84        79\n",
            "    mid risk       0.83      0.82      0.82        60\n",
            "\n",
            "    accuracy                           0.86       203\n",
            "   macro avg       0.86      0.86      0.86       203\n",
            "weighted avg       0.86      0.86      0.86       203\n",
            "\n"
          ]
        },
        {
          "output_type": "execute_result",
          "data": {
            "text/plain": [
              "array([[60,  3,  1],\n",
              "       [ 4, 66,  9],\n",
              "       [ 2,  9, 49]])"
            ]
          },
          "metadata": {},
          "execution_count": 29
        }
      ],
      "source": [
        "#Boosting classifier\n",
        "print(classification_report (y_test,bc_test_pred)) \n",
        "confusion_matrix(y_test, bc_test_pred)"
      ]
    },
    {
      "cell_type": "code",
      "execution_count": 30,
      "metadata": {
        "id": "MevGOeZdRnbv",
        "colab": {
          "base_uri": "https://localhost:8080/"
        },
        "outputId": "f183bd66-bcde-4435-dce3-a119b372021d"
      },
      "outputs": [
        {
          "output_type": "stream",
          "name": "stdout",
          "text": [
            "              precision    recall  f1-score   support\n",
            "\n",
            "   high risk       0.84      0.73      0.78        64\n",
            "    low risk       0.76      0.65      0.70        79\n",
            "    mid risk       0.50      0.67      0.57        60\n",
            "\n",
            "    accuracy                           0.68       203\n",
            "   macro avg       0.70      0.68      0.68       203\n",
            "weighted avg       0.71      0.68      0.69       203\n",
            "\n"
          ]
        },
        {
          "output_type": "execute_result",
          "data": {
            "text/plain": [
              "array([[47,  4, 13],\n",
              "       [ 1, 51, 27],\n",
              "       [ 8, 12, 40]])"
            ]
          },
          "metadata": {},
          "execution_count": 30
        }
      ],
      "source": [
        "#AdaBoost classifier\n",
        "print(classification_report (y_test,abc_test_pred)) \n",
        "confusion_matrix(y_test, abc_test_pred)"
      ]
    },
    {
      "cell_type": "code",
      "execution_count": 31,
      "metadata": {
        "id": "LaEbJWdsSAF0",
        "colab": {
          "base_uri": "https://localhost:8080/"
        },
        "outputId": "5b01f238-5ce9-4f35-9270-287b93e71ec0"
      },
      "outputs": [
        {
          "output_type": "stream",
          "name": "stdout",
          "text": [
            "              precision    recall  f1-score   support\n",
            "\n",
            "   high risk       0.85      0.62      0.72        64\n",
            "    low risk       0.56      0.94      0.70        79\n",
            "    mid risk       0.35      0.13      0.19        60\n",
            "\n",
            "    accuracy                           0.60       203\n",
            "   macro avg       0.59      0.57      0.54       203\n",
            "weighted avg       0.59      0.60      0.56       203\n",
            "\n"
          ]
        },
        {
          "output_type": "execute_result",
          "data": {
            "text/plain": [
              "array([[40, 13, 11],\n",
              "       [ 1, 74,  4],\n",
              "       [ 6, 46,  8]])"
            ]
          },
          "metadata": {},
          "execution_count": 31
        }
      ],
      "source": [
        "#Naive bayes\n",
        "print(classification_report (y_test,gnb_test_pred)) \n",
        "confusion_matrix(y_test, gnb_test_pred)"
      ]
    },
    {
      "cell_type": "code",
      "execution_count": 32,
      "metadata": {
        "id": "3oQXrb-5TXVl"
      },
      "outputs": [],
      "source": [
        "#create param \n",
        "model_param= { \n",
        "'DecisionTreeClassifier':{ \n",
        "'model' :DecisionTreeClassifier(), \n",
        "'param':{ \n",
        "'criterion': ['gini', 'entropy'], \n",
        "'max_depth' : [4,5,6,7,8,28,58] \n",
        "}\n",
        "},\n",
        " 'KNeighborsClassifier':{ \n",
        "'model' :KNeighborsClassifier(), \n",
        "'param':{ \n",
        "'n_neighbors': [5,10,15,20,25]\n",
        " }\n",
        "},\n",
        "'SVC':{\n",
        "'model' :SVC(), \n",
        "'param':{ \n",
        "'kernel': ['rbf', 'linear\", \"sigmoid'], \n",
        "'C': [0.1, 1, 10, 100] \n",
        "}\n",
        "},\n",
        "'RandomForestclassifier':{ \n",
        "'model': RandomForestClassifier(), \n",
        "'param':{ \n",
        "'n_estimators': [10,20,50, 100, 200, 500], \n",
        "'max_features': ['auto', 'sqrt', 'log2'], \n",
        "'max_depth': [4,5,6,7,8,20,30,50], \n",
        "'criterion' :['gini', 'entropy']\n",
        " }\n",
        "},\n",
        "'Logistic Regression':{ \n",
        "'model': LogisticRegression(), \n",
        "'param':{ \n",
        "'C':np.logspace(-3,3,7), \n",
        "'penalty':[\"l1\",\"l2\"] \n",
        "} \n",
        "},\n",
        "'BaggingClassifier':{ \n",
        "'model': BaggingClassifier(), \n",
        "'param':{ \n",
        "'n_estimators': [18,30,50,100,150,200], \n",
        "'random_state': [1,3,5,7,9,15,50,100] \n",
        "} \n",
        "},\n",
        "'AdaBoostClassifier': { \n",
        "'model': AdaBoostClassifier(), \n",
        "'param':{ \n",
        "'n_estimators': [18,30,50, 100, 150, 200], \n",
        "'random_state': [1,3,5,7,9,15,50,100] \n",
        "}\n",
        "}\n",
        "}"
      ]
    },
    {
      "cell_type": "code",
      "execution_count": 33,
      "metadata": {
        "id": "LE6lIJLBXg0q"
      },
      "outputs": [],
      "source": [
        "scores =[] \n",
        "for model_name, mp in model_param.items(): \n",
        "   model_selection = GridSearchCV(estimator=mp['model'],param_grid=mp['param'],cv=5, return_train_score=False) \n",
        "   model_selection.fit(X_train,y_train) \n",
        "   scores.append({\n",
        "      'model':model_name,\n",
        "      'best_score': model_selection.best_score_, \n",
        "      'best_params': model_selection.best_params_\n",
        "   })"
      ]
    },
    {
      "cell_type": "code",
      "execution_count": 34,
      "metadata": {
        "id": "9qR5QNAwftFE",
        "colab": {
          "base_uri": "https://localhost:8080/",
          "height": 269
        },
        "outputId": "dd58b265-ac9c-4ace-e4d2-174609e8075a"
      },
      "outputs": [
        {
          "output_type": "execute_result",
          "data": {
            "text/plain": [
              "                    model  best_score  \\\n",
              "0  DecisionTreeClassifier  0.814592     \n",
              "1  KNeighborsClassifier    0.668729     \n",
              "2  SVC                     0.676213     \n",
              "3  RandomForestclassifier  0.828211     \n",
              "4  Logistic Regression     0.604501     \n",
              "5  BaggingClassifier       0.820781     \n",
              "6  AdaBoostClassifier      0.637789     \n",
              "\n",
              "                                                                             best_params  \n",
              "0  {'criterion': 'gini', 'max_depth': 28}                                                 \n",
              "1  {'n_neighbors': 5}                                                                     \n",
              "2  {'C': 100, 'kernel': 'rbf'}                                                            \n",
              "3  {'criterion': 'entropy', 'max_depth': 50, 'max_features': 'auto', 'n_estimators': 20}  \n",
              "4  {'C': 0.001, 'penalty': 'l2'}                                                          \n",
              "5  {'n_estimators': 150, 'random_state': 50}                                              \n",
              "6  {'n_estimators': 200, 'random_state': 1}                                               "
            ],
            "text/html": [
              "\n",
              "  <div id=\"df-89fe0fd1-df66-4f62-a5ef-3e9304369c1a\">\n",
              "    <div class=\"colab-df-container\">\n",
              "      <div>\n",
              "<style scoped>\n",
              "    .dataframe tbody tr th:only-of-type {\n",
              "        vertical-align: middle;\n",
              "    }\n",
              "\n",
              "    .dataframe tbody tr th {\n",
              "        vertical-align: top;\n",
              "    }\n",
              "\n",
              "    .dataframe thead th {\n",
              "        text-align: right;\n",
              "    }\n",
              "</style>\n",
              "<table border=\"1\" class=\"dataframe\">\n",
              "  <thead>\n",
              "    <tr style=\"text-align: right;\">\n",
              "      <th></th>\n",
              "      <th>model</th>\n",
              "      <th>best_score</th>\n",
              "      <th>best_params</th>\n",
              "    </tr>\n",
              "  </thead>\n",
              "  <tbody>\n",
              "    <tr>\n",
              "      <th>0</th>\n",
              "      <td>DecisionTreeClassifier</td>\n",
              "      <td>0.814592</td>\n",
              "      <td>{'criterion': 'gini', 'max_depth': 28}</td>\n",
              "    </tr>\n",
              "    <tr>\n",
              "      <th>1</th>\n",
              "      <td>KNeighborsClassifier</td>\n",
              "      <td>0.668729</td>\n",
              "      <td>{'n_neighbors': 5}</td>\n",
              "    </tr>\n",
              "    <tr>\n",
              "      <th>2</th>\n",
              "      <td>SVC</td>\n",
              "      <td>0.676213</td>\n",
              "      <td>{'C': 100, 'kernel': 'rbf'}</td>\n",
              "    </tr>\n",
              "    <tr>\n",
              "      <th>3</th>\n",
              "      <td>RandomForestclassifier</td>\n",
              "      <td>0.828211</td>\n",
              "      <td>{'criterion': 'entropy', 'max_depth': 50, 'max_features': 'auto', 'n_estimators': 20}</td>\n",
              "    </tr>\n",
              "    <tr>\n",
              "      <th>4</th>\n",
              "      <td>Logistic Regression</td>\n",
              "      <td>0.604501</td>\n",
              "      <td>{'C': 0.001, 'penalty': 'l2'}</td>\n",
              "    </tr>\n",
              "    <tr>\n",
              "      <th>5</th>\n",
              "      <td>BaggingClassifier</td>\n",
              "      <td>0.820781</td>\n",
              "      <td>{'n_estimators': 150, 'random_state': 50}</td>\n",
              "    </tr>\n",
              "    <tr>\n",
              "      <th>6</th>\n",
              "      <td>AdaBoostClassifier</td>\n",
              "      <td>0.637789</td>\n",
              "      <td>{'n_estimators': 200, 'random_state': 1}</td>\n",
              "    </tr>\n",
              "  </tbody>\n",
              "</table>\n",
              "</div>\n",
              "      <button class=\"colab-df-convert\" onclick=\"convertToInteractive('df-89fe0fd1-df66-4f62-a5ef-3e9304369c1a')\"\n",
              "              title=\"Convert this dataframe to an interactive table.\"\n",
              "              style=\"display:none;\">\n",
              "        \n",
              "  <svg xmlns=\"http://www.w3.org/2000/svg\" height=\"24px\"viewBox=\"0 0 24 24\"\n",
              "       width=\"24px\">\n",
              "    <path d=\"M0 0h24v24H0V0z\" fill=\"none\"/>\n",
              "    <path d=\"M18.56 5.44l.94 2.06.94-2.06 2.06-.94-2.06-.94-.94-2.06-.94 2.06-2.06.94zm-11 1L8.5 8.5l.94-2.06 2.06-.94-2.06-.94L8.5 2.5l-.94 2.06-2.06.94zm10 10l.94 2.06.94-2.06 2.06-.94-2.06-.94-.94-2.06-.94 2.06-2.06.94z\"/><path d=\"M17.41 7.96l-1.37-1.37c-.4-.4-.92-.59-1.43-.59-.52 0-1.04.2-1.43.59L10.3 9.45l-7.72 7.72c-.78.78-.78 2.05 0 2.83L4 21.41c.39.39.9.59 1.41.59.51 0 1.02-.2 1.41-.59l7.78-7.78 2.81-2.81c.8-.78.8-2.07 0-2.86zM5.41 20L4 18.59l7.72-7.72 1.47 1.35L5.41 20z\"/>\n",
              "  </svg>\n",
              "      </button>\n",
              "      \n",
              "  <style>\n",
              "    .colab-df-container {\n",
              "      display:flex;\n",
              "      flex-wrap:wrap;\n",
              "      gap: 12px;\n",
              "    }\n",
              "\n",
              "    .colab-df-convert {\n",
              "      background-color: #E8F0FE;\n",
              "      border: none;\n",
              "      border-radius: 50%;\n",
              "      cursor: pointer;\n",
              "      display: none;\n",
              "      fill: #1967D2;\n",
              "      height: 32px;\n",
              "      padding: 0 0 0 0;\n",
              "      width: 32px;\n",
              "    }\n",
              "\n",
              "    .colab-df-convert:hover {\n",
              "      background-color: #E2EBFA;\n",
              "      box-shadow: 0px 1px 2px rgba(60, 64, 67, 0.3), 0px 1px 3px 1px rgba(60, 64, 67, 0.15);\n",
              "      fill: #174EA6;\n",
              "    }\n",
              "\n",
              "    [theme=dark] .colab-df-convert {\n",
              "      background-color: #3B4455;\n",
              "      fill: #D2E3FC;\n",
              "    }\n",
              "\n",
              "    [theme=dark] .colab-df-convert:hover {\n",
              "      background-color: #434B5C;\n",
              "      box-shadow: 0px 1px 3px 1px rgba(0, 0, 0, 0.15);\n",
              "      filter: drop-shadow(0px 1px 2px rgba(0, 0, 0, 0.3));\n",
              "      fill: #FFFFFF;\n",
              "    }\n",
              "  </style>\n",
              "\n",
              "      <script>\n",
              "        const buttonEl =\n",
              "          document.querySelector('#df-89fe0fd1-df66-4f62-a5ef-3e9304369c1a button.colab-df-convert');\n",
              "        buttonEl.style.display =\n",
              "          google.colab.kernel.accessAllowed ? 'block' : 'none';\n",
              "\n",
              "        async function convertToInteractive(key) {\n",
              "          const element = document.querySelector('#df-89fe0fd1-df66-4f62-a5ef-3e9304369c1a');\n",
              "          const dataTable =\n",
              "            await google.colab.kernel.invokeFunction('convertToInteractive',\n",
              "                                                     [key], {});\n",
              "          if (!dataTable) return;\n",
              "\n",
              "          const docLinkHtml = 'Like what you see? Visit the ' +\n",
              "            '<a target=\"_blank\" href=https://colab.research.google.com/notebooks/data_table.ipynb>data table notebook</a>'\n",
              "            + ' to learn more about interactive tables.';\n",
              "          element.innerHTML = '';\n",
              "          dataTable['output_type'] = 'display_data';\n",
              "          await google.colab.output.renderOutput(dataTable, element);\n",
              "          const docLink = document.createElement('div');\n",
              "          docLink.innerHTML = docLinkHtml;\n",
              "          element.appendChild(docLink);\n",
              "        }\n",
              "      </script>\n",
              "    </div>\n",
              "  </div>\n",
              "  "
            ]
          },
          "metadata": {},
          "execution_count": 34
        }
      ],
      "source": [
        "pd.set_option(\"display.max_colwidth\", -1)\n",
        "of_model_score = pd.DataFrame(scores, columns=['model', 'best_score', 'best_params']) \n",
        "of_model_score"
      ]
    },
    {
      "cell_type": "markdown",
      "source": [
        "# ***Save The Best Model***"
      ],
      "metadata": {
        "id": "NCg_QkY0AKUj"
      }
    },
    {
      "cell_type": "code",
      "execution_count": 35,
      "metadata": {
        "id": "0d6f9BbRmaF4",
        "colab": {
          "base_uri": "https://localhost:8080/",
          "height": 75
        },
        "outputId": "c3d7a350-03fb-468f-a48b-84c6fbd10d7c"
      },
      "outputs": [
        {
          "output_type": "execute_result",
          "data": {
            "text/plain": [
              "RandomForestClassifier(max_depth=50, max_features='auto', n_estimators=20)"
            ],
            "text/html": [
              "<style>#sk-container-id-1 {color: black;background-color: white;}#sk-container-id-1 pre{padding: 0;}#sk-container-id-1 div.sk-toggleable {background-color: white;}#sk-container-id-1 label.sk-toggleable__label {cursor: pointer;display: block;width: 100%;margin-bottom: 0;padding: 0.3em;box-sizing: border-box;text-align: center;}#sk-container-id-1 label.sk-toggleable__label-arrow:before {content: \"▸\";float: left;margin-right: 0.25em;color: #696969;}#sk-container-id-1 label.sk-toggleable__label-arrow:hover:before {color: black;}#sk-container-id-1 div.sk-estimator:hover label.sk-toggleable__label-arrow:before {color: black;}#sk-container-id-1 div.sk-toggleable__content {max-height: 0;max-width: 0;overflow: hidden;text-align: left;background-color: #f0f8ff;}#sk-container-id-1 div.sk-toggleable__content pre {margin: 0.2em;color: black;border-radius: 0.25em;background-color: #f0f8ff;}#sk-container-id-1 input.sk-toggleable__control:checked~div.sk-toggleable__content {max-height: 200px;max-width: 100%;overflow: auto;}#sk-container-id-1 input.sk-toggleable__control:checked~label.sk-toggleable__label-arrow:before {content: \"▾\";}#sk-container-id-1 div.sk-estimator input.sk-toggleable__control:checked~label.sk-toggleable__label {background-color: #d4ebff;}#sk-container-id-1 div.sk-label input.sk-toggleable__control:checked~label.sk-toggleable__label {background-color: #d4ebff;}#sk-container-id-1 input.sk-hidden--visually {border: 0;clip: rect(1px 1px 1px 1px);clip: rect(1px, 1px, 1px, 1px);height: 1px;margin: -1px;overflow: hidden;padding: 0;position: absolute;width: 1px;}#sk-container-id-1 div.sk-estimator {font-family: monospace;background-color: #f0f8ff;border: 1px dotted black;border-radius: 0.25em;box-sizing: border-box;margin-bottom: 0.5em;}#sk-container-id-1 div.sk-estimator:hover {background-color: #d4ebff;}#sk-container-id-1 div.sk-parallel-item::after {content: \"\";width: 100%;border-bottom: 1px solid gray;flex-grow: 1;}#sk-container-id-1 div.sk-label:hover label.sk-toggleable__label {background-color: #d4ebff;}#sk-container-id-1 div.sk-serial::before {content: \"\";position: absolute;border-left: 1px solid gray;box-sizing: border-box;top: 0;bottom: 0;left: 50%;z-index: 0;}#sk-container-id-1 div.sk-serial {display: flex;flex-direction: column;align-items: center;background-color: white;padding-right: 0.2em;padding-left: 0.2em;position: relative;}#sk-container-id-1 div.sk-item {position: relative;z-index: 1;}#sk-container-id-1 div.sk-parallel {display: flex;align-items: stretch;justify-content: center;background-color: white;position: relative;}#sk-container-id-1 div.sk-item::before, #sk-container-id-1 div.sk-parallel-item::before {content: \"\";position: absolute;border-left: 1px solid gray;box-sizing: border-box;top: 0;bottom: 0;left: 50%;z-index: -1;}#sk-container-id-1 div.sk-parallel-item {display: flex;flex-direction: column;z-index: 1;position: relative;background-color: white;}#sk-container-id-1 div.sk-parallel-item:first-child::after {align-self: flex-end;width: 50%;}#sk-container-id-1 div.sk-parallel-item:last-child::after {align-self: flex-start;width: 50%;}#sk-container-id-1 div.sk-parallel-item:only-child::after {width: 0;}#sk-container-id-1 div.sk-dashed-wrapped {border: 1px dashed gray;margin: 0 0.4em 0.5em 0.4em;box-sizing: border-box;padding-bottom: 0.4em;background-color: white;}#sk-container-id-1 div.sk-label label {font-family: monospace;font-weight: bold;display: inline-block;line-height: 1.2em;}#sk-container-id-1 div.sk-label-container {text-align: center;}#sk-container-id-1 div.sk-container {/* jupyter's `normalize.less` sets `[hidden] { display: none; }` but bootstrap.min.css set `[hidden] { display: none !important; }` so we also need the `!important` here to be able to override the default hidden behavior on the sphinx rendered scikit-learn.org. See: https://github.com/scikit-learn/scikit-learn/issues/21755 */display: inline-block !important;position: relative;}#sk-container-id-1 div.sk-text-repr-fallback {display: none;}</style><div id=\"sk-container-id-1\" class=\"sk-top-container\"><div class=\"sk-text-repr-fallback\"><pre>RandomForestClassifier(max_depth=50, max_features=&#x27;auto&#x27;, n_estimators=20)</pre><b>In a Jupyter environment, please rerun this cell to show the HTML representation or trust the notebook. <br />On GitHub, the HTML representation is unable to render, please try loading this page with nbviewer.org.</b></div><div class=\"sk-container\" hidden><div class=\"sk-item\"><div class=\"sk-estimator sk-toggleable\"><input class=\"sk-toggleable__control sk-hidden--visually\" id=\"sk-estimator-id-1\" type=\"checkbox\" checked><label for=\"sk-estimator-id-1\" class=\"sk-toggleable__label sk-toggleable__label-arrow\">RandomForestClassifier</label><div class=\"sk-toggleable__content\"><pre>RandomForestClassifier(max_depth=50, max_features=&#x27;auto&#x27;, n_estimators=20)</pre></div></div></div></div></div>"
            ]
          },
          "metadata": {},
          "execution_count": 35
        }
      ],
      "source": [
        "model_randomforest=RandomForestClassifier( criterion='gini',max_depth=50,max_features=\"auto\",n_estimators=20) \n",
        "\n",
        "model_randomforest.fit(X_train, y_train) "
      ]
    },
    {
      "cell_type": "code",
      "execution_count": 36,
      "metadata": {
        "id": "By-ngnJawqQJ",
        "colab": {
          "base_uri": "https://localhost:8080/"
        },
        "outputId": "8dc28374-d397-4838-82ed-f7211bef4a24"
      },
      "outputs": [
        {
          "output_type": "execute_result",
          "data": {
            "text/plain": [
              "92.08899876390606"
            ]
          },
          "metadata": {},
          "execution_count": 36
        }
      ],
      "source": [
        "result=model_randomforest.score(X_train,y_train)*100 \n",
        "result"
      ]
    },
    {
      "cell_type": "code",
      "execution_count": 37,
      "metadata": {
        "id": "Rvx5BdNew_79",
        "colab": {
          "base_uri": "https://localhost:8080/"
        },
        "outputId": "3291f288-cc68-4ec9-e2c3-128e039c2f1d"
      },
      "outputs": [
        {
          "output_type": "execute_result",
          "data": {
            "text/plain": [
              "87.68472906403942"
            ]
          },
          "metadata": {},
          "execution_count": 37
        }
      ],
      "source": [
        "result=model_randomforest.score(X_test,y_test)*100 \n",
        "result"
      ]
    },
    {
      "cell_type": "code",
      "execution_count": 38,
      "metadata": {
        "id": "QQeQQTnxeuZu",
        "colab": {
          "base_uri": "https://localhost:8080/"
        },
        "outputId": "731b2424-2544-4430-8683-b87b121e886c"
      },
      "outputs": [
        {
          "output_type": "execute_result",
          "data": {
            "text/plain": [
              "array(['low risk', 'mid risk', 'low risk', 'high risk', 'mid risk',\n",
              "       'high risk', 'mid risk', 'low risk', 'high risk', 'low risk',\n",
              "       'low risk', 'mid risk', 'high risk', 'mid risk', 'high risk',\n",
              "       'high risk', 'high risk', 'mid risk', 'mid risk', 'low risk',\n",
              "       'high risk', 'mid risk', 'low risk', 'low risk', 'high risk',\n",
              "       'high risk', 'high risk', 'high risk', 'mid risk', 'mid risk',\n",
              "       'low risk', 'mid risk', 'mid risk', 'low risk', 'high risk',\n",
              "       'low risk', 'mid risk', 'mid risk', 'high risk', 'mid risk',\n",
              "       'low risk', 'low risk', 'mid risk', 'mid risk', 'mid risk',\n",
              "       'mid risk', 'mid risk', 'low risk', 'low risk', 'mid risk',\n",
              "       'high risk', 'low risk', 'low risk', 'mid risk', 'low risk',\n",
              "       'mid risk', 'low risk', 'high risk', 'low risk', 'low risk',\n",
              "       'low risk', 'low risk', 'low risk', 'mid risk', 'high risk',\n",
              "       'high risk', 'low risk', 'low risk', 'low risk', 'high risk',\n",
              "       'low risk', 'mid risk', 'low risk', 'high risk', 'high risk',\n",
              "       'mid risk', 'mid risk', 'mid risk', 'low risk', 'low risk',\n",
              "       'high risk', 'mid risk', 'low risk', 'low risk', 'low risk',\n",
              "       'mid risk', 'low risk', 'low risk', 'high risk', 'high risk',\n",
              "       'low risk', 'high risk', 'low risk', 'low risk', 'mid risk',\n",
              "       'low risk', 'low risk', 'mid risk', 'mid risk', 'low risk',\n",
              "       'low risk', 'mid risk', 'high risk', 'low risk', 'high risk',\n",
              "       'mid risk', 'low risk', 'low risk', 'mid risk', 'mid risk',\n",
              "       'high risk', 'low risk', 'high risk', 'low risk', 'low risk',\n",
              "       'high risk', 'mid risk', 'low risk', 'high risk', 'mid risk',\n",
              "       'low risk', 'low risk', 'high risk', 'low risk', 'high risk',\n",
              "       'mid risk', 'mid risk', 'low risk', 'mid risk', 'low risk',\n",
              "       'low risk', 'mid risk', 'mid risk', 'high risk', 'mid risk',\n",
              "       'high risk', 'low risk', 'high risk', 'low risk', 'high risk',\n",
              "       'mid risk', 'high risk', 'mid risk', 'low risk', 'high risk',\n",
              "       'high risk', 'mid risk', 'mid risk', 'low risk', 'high risk',\n",
              "       'low risk', 'high risk', 'mid risk', 'mid risk', 'low risk',\n",
              "       'mid risk', 'high risk', 'high risk', 'low risk', 'mid risk',\n",
              "       'mid risk', 'low risk', 'mid risk', 'high risk', 'high risk',\n",
              "       'low risk', 'high risk', 'low risk', 'mid risk', 'low risk',\n",
              "       'low risk', 'low risk', 'mid risk', 'high risk', 'high risk',\n",
              "       'mid risk', 'low risk', 'high risk', 'high risk', 'high risk',\n",
              "       'mid risk', 'high risk', 'low risk', 'low risk', 'low risk',\n",
              "       'high risk', 'high risk', 'low risk', 'low risk', 'low risk',\n",
              "       'mid risk', 'high risk', 'mid risk', 'high risk', 'high risk',\n",
              "       'high risk', 'low risk', 'high risk', 'low risk', 'low risk',\n",
              "       'high risk', 'high risk', 'high risk'], dtype=object)"
            ]
          },
          "metadata": {},
          "execution_count": 38
        }
      ],
      "source": [
        "model_randomforest.predict(X_test)"
      ]
    },
    {
      "cell_type": "code",
      "execution_count": 39,
      "metadata": {
        "id": "ZOT4tVR3hNA2"
      },
      "outputs": [],
      "source": [
        "import pickle\n",
        "pickle.dump(model_randomforest,open(\"model_randomforest.pkl\",'wb'))"
      ]
    },
    {
      "cell_type": "code",
      "execution_count": 41,
      "metadata": {
        "id": "teFttDfmjKdB"
      },
      "outputs": [],
      "source": [
        "model=pickle.load(open(\"model_randomforest.pkl\",\"rb\"))\n",
        "app=Flask(__name__)"
      ]
    }
  ],
  "metadata": {
    "colab": {
      "provenance": []
    },
    "kernelspec": {
      "display_name": "Python 3",
      "name": "python3"
    },
    "language_info": {
      "name": "python"
    }
  },
  "nbformat": 4,
  "nbformat_minor": 0
}